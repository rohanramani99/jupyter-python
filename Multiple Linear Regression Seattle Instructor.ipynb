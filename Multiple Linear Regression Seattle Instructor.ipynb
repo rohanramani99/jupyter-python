{
 "cells": [
  {
   "cell_type": "markdown",
   "metadata": {},
   "source": [
    "# Multiple Linear Regression\n",
    "\n",
    "\n",
    "## Import required packages"
   ]
  },
  {
   "cell_type": "code",
   "execution_count": 1,
   "metadata": {},
   "outputs": [
    {
     "name": "stdout",
     "output_type": "stream",
     "text": [
      "no display found. Using non-interactive Agg backend\n"
     ]
    }
   ],
   "source": [
    "%matplotlib inline\n",
    "from pathlib import Path\n",
    "\n",
    "import pandas as pd\n",
    "import numpy as np\n",
    "\n",
    "from sklearn.model_selection import train_test_split\n",
    "\n",
    "from sklearn.linear_model import LinearRegression\n",
    "\n",
    "import matplotlib.pylab as plt\n",
    "import seaborn as sns\n",
    "\n",
    "from dmba import regressionSummary, liftChart, gainsChart\n",
    "from dmba import adjusted_r2_score, AIC_score, BIC_score"
   ]
  },
  {
   "cell_type": "markdown",
   "metadata": {},
   "source": [
    "### Kings County, WA (Seattle) House Price Data"
   ]
  },
  {
   "cell_type": "code",
   "execution_count": 49,
   "metadata": {},
   "outputs": [
    {
     "data": {
      "text/html": [
       "<div>\n",
       "<style scoped>\n",
       "    .dataframe tbody tr th:only-of-type {\n",
       "        vertical-align: middle;\n",
       "    }\n",
       "\n",
       "    .dataframe tbody tr th {\n",
       "        vertical-align: top;\n",
       "    }\n",
       "\n",
       "    .dataframe thead th {\n",
       "        text-align: right;\n",
       "    }\n",
       "</style>\n",
       "<table border=\"1\" class=\"dataframe\">\n",
       "  <thead>\n",
       "    <tr style=\"text-align: right;\">\n",
       "      <th></th>\n",
       "      <th>price</th>\n",
       "      <th>bedrooms</th>\n",
       "      <th>bathrooms</th>\n",
       "      <th>sqft living</th>\n",
       "      <th>sqft lot</th>\n",
       "      <th>floors</th>\n",
       "      <th>waterfront</th>\n",
       "      <th>view</th>\n",
       "      <th>condition</th>\n",
       "      <th>grade</th>\n",
       "      <th>sqft above</th>\n",
       "      <th>sqft basement</th>\n",
       "      <th>yr built</th>\n",
       "      <th>yr renovated</th>\n",
       "      <th>zipcode</th>\n",
       "      <th>lat</th>\n",
       "      <th>long</th>\n",
       "      <th>year</th>\n",
       "      <th>month</th>\n",
       "      <th>day</th>\n",
       "    </tr>\n",
       "  </thead>\n",
       "  <tbody>\n",
       "    <tr>\n",
       "      <th>0</th>\n",
       "      <td>221900.0</td>\n",
       "      <td>3</td>\n",
       "      <td>1.00</td>\n",
       "      <td>1180</td>\n",
       "      <td>5650</td>\n",
       "      <td>1.0</td>\n",
       "      <td>0</td>\n",
       "      <td>0</td>\n",
       "      <td>3</td>\n",
       "      <td>7</td>\n",
       "      <td>1180</td>\n",
       "      <td>0</td>\n",
       "      <td>1955</td>\n",
       "      <td>0</td>\n",
       "      <td>98178</td>\n",
       "      <td>47.5112</td>\n",
       "      <td>-122.257</td>\n",
       "      <td>2014</td>\n",
       "      <td>10</td>\n",
       "      <td>13</td>\n",
       "    </tr>\n",
       "    <tr>\n",
       "      <th>1</th>\n",
       "      <td>538000.0</td>\n",
       "      <td>3</td>\n",
       "      <td>2.25</td>\n",
       "      <td>2570</td>\n",
       "      <td>7242</td>\n",
       "      <td>2.0</td>\n",
       "      <td>0</td>\n",
       "      <td>0</td>\n",
       "      <td>3</td>\n",
       "      <td>7</td>\n",
       "      <td>2170</td>\n",
       "      <td>400</td>\n",
       "      <td>1951</td>\n",
       "      <td>1991</td>\n",
       "      <td>98125</td>\n",
       "      <td>47.7210</td>\n",
       "      <td>-122.319</td>\n",
       "      <td>2014</td>\n",
       "      <td>12</td>\n",
       "      <td>9</td>\n",
       "    </tr>\n",
       "    <tr>\n",
       "      <th>2</th>\n",
       "      <td>180000.0</td>\n",
       "      <td>2</td>\n",
       "      <td>1.00</td>\n",
       "      <td>770</td>\n",
       "      <td>10000</td>\n",
       "      <td>1.0</td>\n",
       "      <td>0</td>\n",
       "      <td>0</td>\n",
       "      <td>3</td>\n",
       "      <td>6</td>\n",
       "      <td>770</td>\n",
       "      <td>0</td>\n",
       "      <td>1933</td>\n",
       "      <td>0</td>\n",
       "      <td>98028</td>\n",
       "      <td>47.7379</td>\n",
       "      <td>-122.233</td>\n",
       "      <td>2015</td>\n",
       "      <td>2</td>\n",
       "      <td>25</td>\n",
       "    </tr>\n",
       "    <tr>\n",
       "      <th>3</th>\n",
       "      <td>604000.0</td>\n",
       "      <td>4</td>\n",
       "      <td>3.00</td>\n",
       "      <td>1960</td>\n",
       "      <td>5000</td>\n",
       "      <td>1.0</td>\n",
       "      <td>0</td>\n",
       "      <td>0</td>\n",
       "      <td>5</td>\n",
       "      <td>7</td>\n",
       "      <td>1050</td>\n",
       "      <td>910</td>\n",
       "      <td>1965</td>\n",
       "      <td>0</td>\n",
       "      <td>98136</td>\n",
       "      <td>47.5208</td>\n",
       "      <td>-122.393</td>\n",
       "      <td>2014</td>\n",
       "      <td>12</td>\n",
       "      <td>9</td>\n",
       "    </tr>\n",
       "    <tr>\n",
       "      <th>4</th>\n",
       "      <td>510000.0</td>\n",
       "      <td>3</td>\n",
       "      <td>2.00</td>\n",
       "      <td>1680</td>\n",
       "      <td>8080</td>\n",
       "      <td>1.0</td>\n",
       "      <td>0</td>\n",
       "      <td>0</td>\n",
       "      <td>3</td>\n",
       "      <td>8</td>\n",
       "      <td>1680</td>\n",
       "      <td>0</td>\n",
       "      <td>1987</td>\n",
       "      <td>0</td>\n",
       "      <td>98074</td>\n",
       "      <td>47.6168</td>\n",
       "      <td>-122.045</td>\n",
       "      <td>2015</td>\n",
       "      <td>2</td>\n",
       "      <td>18</td>\n",
       "    </tr>\n",
       "    <tr>\n",
       "      <th>5</th>\n",
       "      <td>1230000.0</td>\n",
       "      <td>4</td>\n",
       "      <td>4.50</td>\n",
       "      <td>5420</td>\n",
       "      <td>101930</td>\n",
       "      <td>1.0</td>\n",
       "      <td>0</td>\n",
       "      <td>0</td>\n",
       "      <td>3</td>\n",
       "      <td>11</td>\n",
       "      <td>3890</td>\n",
       "      <td>1530</td>\n",
       "      <td>2001</td>\n",
       "      <td>0</td>\n",
       "      <td>98053</td>\n",
       "      <td>47.6561</td>\n",
       "      <td>-122.005</td>\n",
       "      <td>2014</td>\n",
       "      <td>5</td>\n",
       "      <td>12</td>\n",
       "    </tr>\n",
       "    <tr>\n",
       "      <th>6</th>\n",
       "      <td>257500.0</td>\n",
       "      <td>3</td>\n",
       "      <td>2.25</td>\n",
       "      <td>1715</td>\n",
       "      <td>6819</td>\n",
       "      <td>2.0</td>\n",
       "      <td>0</td>\n",
       "      <td>0</td>\n",
       "      <td>3</td>\n",
       "      <td>7</td>\n",
       "      <td>1715</td>\n",
       "      <td>0</td>\n",
       "      <td>1995</td>\n",
       "      <td>0</td>\n",
       "      <td>98003</td>\n",
       "      <td>47.3097</td>\n",
       "      <td>-122.327</td>\n",
       "      <td>2014</td>\n",
       "      <td>6</td>\n",
       "      <td>27</td>\n",
       "    </tr>\n",
       "    <tr>\n",
       "      <th>7</th>\n",
       "      <td>291850.0</td>\n",
       "      <td>3</td>\n",
       "      <td>1.50</td>\n",
       "      <td>1060</td>\n",
       "      <td>9711</td>\n",
       "      <td>1.0</td>\n",
       "      <td>0</td>\n",
       "      <td>0</td>\n",
       "      <td>3</td>\n",
       "      <td>7</td>\n",
       "      <td>1060</td>\n",
       "      <td>0</td>\n",
       "      <td>1963</td>\n",
       "      <td>0</td>\n",
       "      <td>98198</td>\n",
       "      <td>47.4095</td>\n",
       "      <td>-122.315</td>\n",
       "      <td>2015</td>\n",
       "      <td>1</td>\n",
       "      <td>15</td>\n",
       "    </tr>\n",
       "    <tr>\n",
       "      <th>8</th>\n",
       "      <td>229500.0</td>\n",
       "      <td>3</td>\n",
       "      <td>1.00</td>\n",
       "      <td>1780</td>\n",
       "      <td>7470</td>\n",
       "      <td>1.0</td>\n",
       "      <td>0</td>\n",
       "      <td>0</td>\n",
       "      <td>3</td>\n",
       "      <td>7</td>\n",
       "      <td>1050</td>\n",
       "      <td>730</td>\n",
       "      <td>1960</td>\n",
       "      <td>0</td>\n",
       "      <td>98146</td>\n",
       "      <td>47.5123</td>\n",
       "      <td>-122.337</td>\n",
       "      <td>2015</td>\n",
       "      <td>4</td>\n",
       "      <td>15</td>\n",
       "    </tr>\n",
       "    <tr>\n",
       "      <th>9</th>\n",
       "      <td>323000.0</td>\n",
       "      <td>3</td>\n",
       "      <td>2.50</td>\n",
       "      <td>1890</td>\n",
       "      <td>6560</td>\n",
       "      <td>2.0</td>\n",
       "      <td>0</td>\n",
       "      <td>0</td>\n",
       "      <td>3</td>\n",
       "      <td>7</td>\n",
       "      <td>1890</td>\n",
       "      <td>0</td>\n",
       "      <td>2003</td>\n",
       "      <td>0</td>\n",
       "      <td>98038</td>\n",
       "      <td>47.3684</td>\n",
       "      <td>-122.031</td>\n",
       "      <td>2015</td>\n",
       "      <td>3</td>\n",
       "      <td>12</td>\n",
       "    </tr>\n",
       "  </tbody>\n",
       "</table>\n",
       "</div>"
      ],
      "text/plain": [
       "       price  bedrooms  bathrooms  sqft living  sqft lot  floors  waterfront  \\\n",
       "0   221900.0         3       1.00         1180      5650     1.0           0   \n",
       "1   538000.0         3       2.25         2570      7242     2.0           0   \n",
       "2   180000.0         2       1.00          770     10000     1.0           0   \n",
       "3   604000.0         4       3.00         1960      5000     1.0           0   \n",
       "4   510000.0         3       2.00         1680      8080     1.0           0   \n",
       "5  1230000.0         4       4.50         5420    101930     1.0           0   \n",
       "6   257500.0         3       2.25         1715      6819     2.0           0   \n",
       "7   291850.0         3       1.50         1060      9711     1.0           0   \n",
       "8   229500.0         3       1.00         1780      7470     1.0           0   \n",
       "9   323000.0         3       2.50         1890      6560     2.0           0   \n",
       "\n",
       "   view  condition  grade  sqft above  sqft basement  yr built  yr renovated  \\\n",
       "0     0          3      7        1180              0      1955             0   \n",
       "1     0          3      7        2170            400      1951          1991   \n",
       "2     0          3      6         770              0      1933             0   \n",
       "3     0          5      7        1050            910      1965             0   \n",
       "4     0          3      8        1680              0      1987             0   \n",
       "5     0          3     11        3890           1530      2001             0   \n",
       "6     0          3      7        1715              0      1995             0   \n",
       "7     0          3      7        1060              0      1963             0   \n",
       "8     0          3      7        1050            730      1960             0   \n",
       "9     0          3      7        1890              0      2003             0   \n",
       "\n",
       "   zipcode      lat     long  year  month  day  \n",
       "0    98178  47.5112 -122.257  2014     10   13  \n",
       "1    98125  47.7210 -122.319  2014     12    9  \n",
       "2    98028  47.7379 -122.233  2015      2   25  \n",
       "3    98136  47.5208 -122.393  2014     12    9  \n",
       "4    98074  47.6168 -122.045  2015      2   18  \n",
       "5    98053  47.6561 -122.005  2014      5   12  \n",
       "6    98003  47.3097 -122.327  2014      6   27  \n",
       "7    98198  47.4095 -122.315  2015      1   15  \n",
       "8    98146  47.5123 -122.337  2015      4   15  \n",
       "9    98038  47.3684 -122.031  2015      3   12  "
      ]
     },
     "execution_count": 49,
     "metadata": {},
     "output_type": "execute_result"
    }
   ],
   "source": [
    "kc_df = pd.read_csv('kc_house_data.csv')\n",
    "kc_df.head(10)"
   ]
  },
  {
   "cell_type": "code",
   "execution_count": 50,
   "metadata": {},
   "outputs": [],
   "source": [
    "# get rid of nonessential variables - which one(s)?\n",
    "kc_df = kc_df.drop(columns=['day', 'lat', 'long'])"
   ]
  },
  {
   "cell_type": "code",
   "execution_count": 51,
   "metadata": {},
   "outputs": [
    {
     "data": {
      "text/plain": [
       "Index(['price', 'bedrooms', 'bathrooms', 'sqft_living', 'sqft_lot', 'floors',\n",
       "       'waterfront', 'view', 'condition', 'grade', 'sqft_above',\n",
       "       'sqft_basement', 'yr_built', 'yr_renovated', 'zipcode', 'year',\n",
       "       'month'],\n",
       "      dtype='object')"
      ]
     },
     "execution_count": 51,
     "metadata": {},
     "output_type": "execute_result"
    }
   ],
   "source": [
    "kc_df.columns = [s.strip().replace(' ', '_') for s in kc_df.columns]\n",
    "kc_df.columns"
   ]
  },
  {
   "cell_type": "code",
   "execution_count": 52,
   "metadata": {},
   "outputs": [],
   "source": [
    "kc_df.condition = kc_df.condition.astype('category')\n",
    "kc_df.view = kc_df.view.astype('category')\n",
    "kc_df.waterfront = kc_df.waterfront.astype('category')\n",
    "kc_df.zipcode = kc_df.zipcode.astype('category')"
   ]
  },
  {
   "cell_type": "code",
   "execution_count": 6,
   "metadata": {},
   "outputs": [
    {
     "name": "stdout",
     "output_type": "stream",
     "text": [
      "<class 'pandas.core.frame.DataFrame'>\n",
      "RangeIndex: 21613 entries, 0 to 21612\n",
      "Data columns (total 19 columns):\n",
      "price            21613 non-null float64\n",
      "bedrooms         21613 non-null int64\n",
      "bathrooms        21613 non-null float64\n",
      "sqft_living      21613 non-null int64\n",
      "sqft_lot         21613 non-null int64\n",
      "floors           21613 non-null float64\n",
      "waterfront       21613 non-null category\n",
      "view             21613 non-null category\n",
      "condition        21613 non-null category\n",
      "grade            21613 non-null int64\n",
      "sqft_above       21613 non-null int64\n",
      "sqft_basement    21613 non-null int64\n",
      "yr_built         21613 non-null int64\n",
      "yr_renovated     21613 non-null int64\n",
      "zipcode          21613 non-null category\n",
      "lat              21613 non-null float64\n",
      "long             21613 non-null float64\n",
      "year             21613 non-null int64\n",
      "month            21613 non-null int64\n",
      "dtypes: category(4), float64(5), int64(10)\n",
      "memory usage: 2.6 MB\n"
     ]
    }
   ],
   "source": [
    "# check the object types of the variables; how many categorical, integer, and floating point?\n",
    "kc_df.info()"
   ]
  },
  {
   "cell_type": "code",
   "execution_count": 6,
   "metadata": {},
   "outputs": [
    {
     "data": {
      "text/html": [
       "<div>\n",
       "<style scoped>\n",
       "    .dataframe tbody tr th:only-of-type {\n",
       "        vertical-align: middle;\n",
       "    }\n",
       "\n",
       "    .dataframe tbody tr th {\n",
       "        vertical-align: top;\n",
       "    }\n",
       "\n",
       "    .dataframe thead th {\n",
       "        text-align: right;\n",
       "    }\n",
       "</style>\n",
       "<table border=\"1\" class=\"dataframe\">\n",
       "  <thead>\n",
       "    <tr style=\"text-align: right;\">\n",
       "      <th></th>\n",
       "      <th>mean</th>\n",
       "      <th>sd</th>\n",
       "      <th>min</th>\n",
       "      <th>max</th>\n",
       "      <th>median</th>\n",
       "      <th>length</th>\n",
       "      <th>miss.val</th>\n",
       "    </tr>\n",
       "  </thead>\n",
       "  <tbody>\n",
       "    <tr>\n",
       "      <th>price</th>\n",
       "      <td>540182.158793</td>\n",
       "      <td>367362.231718</td>\n",
       "      <td>75000.0000</td>\n",
       "      <td>7.700000e+06</td>\n",
       "      <td>450000.0000</td>\n",
       "      <td>21613</td>\n",
       "      <td>0</td>\n",
       "    </tr>\n",
       "    <tr>\n",
       "      <th>bedrooms</th>\n",
       "      <td>3.370842</td>\n",
       "      <td>0.930062</td>\n",
       "      <td>0.0000</td>\n",
       "      <td>3.300000e+01</td>\n",
       "      <td>3.0000</td>\n",
       "      <td>21613</td>\n",
       "      <td>0</td>\n",
       "    </tr>\n",
       "    <tr>\n",
       "      <th>bathrooms</th>\n",
       "      <td>2.114757</td>\n",
       "      <td>0.770163</td>\n",
       "      <td>0.0000</td>\n",
       "      <td>8.000000e+00</td>\n",
       "      <td>2.2500</td>\n",
       "      <td>21613</td>\n",
       "      <td>0</td>\n",
       "    </tr>\n",
       "    <tr>\n",
       "      <th>sqft_living</th>\n",
       "      <td>2079.899736</td>\n",
       "      <td>918.440897</td>\n",
       "      <td>290.0000</td>\n",
       "      <td>1.354000e+04</td>\n",
       "      <td>1910.0000</td>\n",
       "      <td>21613</td>\n",
       "      <td>0</td>\n",
       "    </tr>\n",
       "    <tr>\n",
       "      <th>sqft_lot</th>\n",
       "      <td>15106.967566</td>\n",
       "      <td>41420.511515</td>\n",
       "      <td>520.0000</td>\n",
       "      <td>1.651359e+06</td>\n",
       "      <td>7618.0000</td>\n",
       "      <td>21613</td>\n",
       "      <td>0</td>\n",
       "    </tr>\n",
       "    <tr>\n",
       "      <th>floors</th>\n",
       "      <td>1.494309</td>\n",
       "      <td>0.539989</td>\n",
       "      <td>1.0000</td>\n",
       "      <td>3.500000e+00</td>\n",
       "      <td>1.5000</td>\n",
       "      <td>21613</td>\n",
       "      <td>0</td>\n",
       "    </tr>\n",
       "    <tr>\n",
       "      <th>waterfront</th>\n",
       "      <td>0.007542</td>\n",
       "      <td>0.086517</td>\n",
       "      <td>0.0000</td>\n",
       "      <td>1.000000e+00</td>\n",
       "      <td>0.0000</td>\n",
       "      <td>21613</td>\n",
       "      <td>0</td>\n",
       "    </tr>\n",
       "    <tr>\n",
       "      <th>view</th>\n",
       "      <td>0.234303</td>\n",
       "      <td>0.766318</td>\n",
       "      <td>0.0000</td>\n",
       "      <td>4.000000e+00</td>\n",
       "      <td>0.0000</td>\n",
       "      <td>21613</td>\n",
       "      <td>0</td>\n",
       "    </tr>\n",
       "    <tr>\n",
       "      <th>condition</th>\n",
       "      <td>3.409430</td>\n",
       "      <td>0.650743</td>\n",
       "      <td>1.0000</td>\n",
       "      <td>5.000000e+00</td>\n",
       "      <td>3.0000</td>\n",
       "      <td>21613</td>\n",
       "      <td>0</td>\n",
       "    </tr>\n",
       "    <tr>\n",
       "      <th>grade</th>\n",
       "      <td>7.656873</td>\n",
       "      <td>1.175459</td>\n",
       "      <td>1.0000</td>\n",
       "      <td>1.300000e+01</td>\n",
       "      <td>7.0000</td>\n",
       "      <td>21613</td>\n",
       "      <td>0</td>\n",
       "    </tr>\n",
       "    <tr>\n",
       "      <th>sqft_above</th>\n",
       "      <td>1788.390691</td>\n",
       "      <td>828.090978</td>\n",
       "      <td>290.0000</td>\n",
       "      <td>9.410000e+03</td>\n",
       "      <td>1560.0000</td>\n",
       "      <td>21613</td>\n",
       "      <td>0</td>\n",
       "    </tr>\n",
       "    <tr>\n",
       "      <th>sqft_basement</th>\n",
       "      <td>291.509045</td>\n",
       "      <td>442.575043</td>\n",
       "      <td>0.0000</td>\n",
       "      <td>4.820000e+03</td>\n",
       "      <td>0.0000</td>\n",
       "      <td>21613</td>\n",
       "      <td>0</td>\n",
       "    </tr>\n",
       "    <tr>\n",
       "      <th>yr_built</th>\n",
       "      <td>1971.005136</td>\n",
       "      <td>29.373411</td>\n",
       "      <td>1900.0000</td>\n",
       "      <td>2.015000e+03</td>\n",
       "      <td>1975.0000</td>\n",
       "      <td>21613</td>\n",
       "      <td>0</td>\n",
       "    </tr>\n",
       "    <tr>\n",
       "      <th>yr_renovated</th>\n",
       "      <td>84.402258</td>\n",
       "      <td>401.679240</td>\n",
       "      <td>0.0000</td>\n",
       "      <td>2.015000e+03</td>\n",
       "      <td>0.0000</td>\n",
       "      <td>21613</td>\n",
       "      <td>0</td>\n",
       "    </tr>\n",
       "    <tr>\n",
       "      <th>zipcode</th>\n",
       "      <td>98077.939805</td>\n",
       "      <td>53.505026</td>\n",
       "      <td>98001.0000</td>\n",
       "      <td>9.819900e+04</td>\n",
       "      <td>98065.0000</td>\n",
       "      <td>21613</td>\n",
       "      <td>0</td>\n",
       "    </tr>\n",
       "    <tr>\n",
       "      <th>lat</th>\n",
       "      <td>47.560053</td>\n",
       "      <td>0.138564</td>\n",
       "      <td>47.1559</td>\n",
       "      <td>4.777760e+01</td>\n",
       "      <td>47.5718</td>\n",
       "      <td>21613</td>\n",
       "      <td>0</td>\n",
       "    </tr>\n",
       "    <tr>\n",
       "      <th>long</th>\n",
       "      <td>-122.213896</td>\n",
       "      <td>0.140828</td>\n",
       "      <td>-122.5190</td>\n",
       "      <td>-1.213150e+02</td>\n",
       "      <td>-122.2300</td>\n",
       "      <td>21613</td>\n",
       "      <td>0</td>\n",
       "    </tr>\n",
       "    <tr>\n",
       "      <th>year</th>\n",
       "      <td>2014.322954</td>\n",
       "      <td>0.467616</td>\n",
       "      <td>2014.0000</td>\n",
       "      <td>2.015000e+03</td>\n",
       "      <td>2014.0000</td>\n",
       "      <td>21613</td>\n",
       "      <td>0</td>\n",
       "    </tr>\n",
       "    <tr>\n",
       "      <th>month</th>\n",
       "      <td>6.574423</td>\n",
       "      <td>3.115308</td>\n",
       "      <td>1.0000</td>\n",
       "      <td>1.200000e+01</td>\n",
       "      <td>6.0000</td>\n",
       "      <td>21613</td>\n",
       "      <td>0</td>\n",
       "    </tr>\n",
       "    <tr>\n",
       "      <th>day</th>\n",
       "      <td>15.688197</td>\n",
       "      <td>8.635063</td>\n",
       "      <td>1.0000</td>\n",
       "      <td>3.100000e+01</td>\n",
       "      <td>16.0000</td>\n",
       "      <td>21613</td>\n",
       "      <td>0</td>\n",
       "    </tr>\n",
       "  </tbody>\n",
       "</table>\n",
       "</div>"
      ],
      "text/plain": [
       "                        mean             sd         min           max  \\\n",
       "price          540182.158793  367362.231718  75000.0000  7.700000e+06   \n",
       "bedrooms            3.370842       0.930062      0.0000  3.300000e+01   \n",
       "bathrooms           2.114757       0.770163      0.0000  8.000000e+00   \n",
       "sqft_living      2079.899736     918.440897    290.0000  1.354000e+04   \n",
       "sqft_lot        15106.967566   41420.511515    520.0000  1.651359e+06   \n",
       "floors              1.494309       0.539989      1.0000  3.500000e+00   \n",
       "waterfront          0.007542       0.086517      0.0000  1.000000e+00   \n",
       "view                0.234303       0.766318      0.0000  4.000000e+00   \n",
       "condition           3.409430       0.650743      1.0000  5.000000e+00   \n",
       "grade               7.656873       1.175459      1.0000  1.300000e+01   \n",
       "sqft_above       1788.390691     828.090978    290.0000  9.410000e+03   \n",
       "sqft_basement     291.509045     442.575043      0.0000  4.820000e+03   \n",
       "yr_built         1971.005136      29.373411   1900.0000  2.015000e+03   \n",
       "yr_renovated       84.402258     401.679240      0.0000  2.015000e+03   \n",
       "zipcode         98077.939805      53.505026  98001.0000  9.819900e+04   \n",
       "lat                47.560053       0.138564     47.1559  4.777760e+01   \n",
       "long             -122.213896       0.140828   -122.5190 -1.213150e+02   \n",
       "year             2014.322954       0.467616   2014.0000  2.015000e+03   \n",
       "month               6.574423       3.115308      1.0000  1.200000e+01   \n",
       "day                15.688197       8.635063      1.0000  3.100000e+01   \n",
       "\n",
       "                    median  length  miss.val  \n",
       "price          450000.0000   21613         0  \n",
       "bedrooms            3.0000   21613         0  \n",
       "bathrooms           2.2500   21613         0  \n",
       "sqft_living      1910.0000   21613         0  \n",
       "sqft_lot         7618.0000   21613         0  \n",
       "floors              1.5000   21613         0  \n",
       "waterfront          0.0000   21613         0  \n",
       "view                0.0000   21613         0  \n",
       "condition           3.0000   21613         0  \n",
       "grade               7.0000   21613         0  \n",
       "sqft_above       1560.0000   21613         0  \n",
       "sqft_basement       0.0000   21613         0  \n",
       "yr_built         1975.0000   21613         0  \n",
       "yr_renovated        0.0000   21613         0  \n",
       "zipcode         98065.0000   21613         0  \n",
       "lat                47.5718   21613         0  \n",
       "long             -122.2300   21613         0  \n",
       "year             2014.0000   21613         0  \n",
       "month               6.0000   21613         0  \n",
       "day                16.0000   21613         0  "
      ]
     },
     "execution_count": 6,
     "metadata": {},
     "output_type": "execute_result"
    }
   ],
   "source": [
    "pd.DataFrame({'mean': kc_df.mean(),\n",
    "              'sd': kc_df.std(),\n",
    "              'min': kc_df.min(),\n",
    "              'max': kc_df.max(),\n",
    "              'median': kc_df.median(),\n",
    "              'length': len(kc_df),\n",
    "              'miss.val': kc_df.isnull().sum(),\n",
    "             })"
   ]
  },
  {
   "cell_type": "code",
   "execution_count": 21,
   "metadata": {},
   "outputs": [
    {
     "data": {
      "text/plain": [
       "[Text(0, 0.5, 'count'), Text(0.5, 0, 'Prices')]"
      ]
     },
     "execution_count": 21,
     "metadata": {},
     "output_type": "execute_result"
    },
    {
     "data": {
      "image/png": "[encoded data removed]",
      "text/plain": [
       "<Figure size 432x288 with 1 Axes>"
      ]
     },
     "metadata": {
      "needs_background": "light"
     },
     "output_type": "display_data"
    }
   ],
   "source": [
    "fig, ax = plt.subplots(1,1)\n",
    "\n",
    "sns.distplot(kc_df.price, \n",
    "             bins=50, \n",
    "             label='Seattle House Prices', \n",
    "             color='mediumblue')\n",
    "\n",
    "ax.set_title('House Price Distribution', fontsize=20)\n",
    "ax.set(xlabel='Prices', ylabel='count')"
   ]
  },
  {
   "cell_type": "code",
   "execution_count": 11,
   "metadata": {},
   "outputs": [
    {
     "data": {
      "image/png": "[encoded data removed]",
      "text/plain": [
       "<Figure size 792x504 with 2 Axes>"
      ]
     },
     "metadata": {
      "needs_background": "light"
     },
     "output_type": "display_data"
    }
   ],
   "source": [
    "%matplotlib inline\n",
    "\n",
    "# Check for collinearity\n",
    "corr=kc_df.corr()\n",
    "\n",
    "fig, ax = plt.subplots()\n",
    "fig.set_size_inches(11, 7)\n",
    "sns.heatmap(corr, annot=True, fmt=\".1f\", cmap=\"RdBu\", center=0, ax=ax)\n",
    "\n",
    "plt.show()"
   ]
  },
  {
   "cell_type": "code",
   "execution_count": 53,
   "metadata": {},
   "outputs": [],
   "source": [
    "# isolate predictors separate from the response variable\n",
    "\n",
    "X = kc_df.drop(columns=['price'])\n",
    "y = kc_df['price']"
   ]
  },
  {
   "cell_type": "code",
   "execution_count": 7,
   "metadata": {},
   "outputs": [
    {
     "name": "stdout",
     "output_type": "stream",
     "text": [
      "Index(['bedrooms', 'bathrooms', 'sqft_living', 'sqft_lot', 'floors',\n",
      "       'waterfront', 'view', 'grade', 'sqft_above', 'sqft_basement',\n",
      "       'yr_built', 'yr_renovated', 'lat', 'long', 'year', 'month',\n",
      "       'condition_2', 'condition_3', 'condition_4', 'condition_5'],\n",
      "      dtype='object')\n"
     ]
    }
   ],
   "source": [
    "X_exp = pd.get_dummies(X, prefix_sep=\"_\", drop_first=True)\n",
    "\n",
    "print(X_exp.columns)"
   ]
  },
  {
   "cell_type": "code",
   "execution_count": 8,
   "metadata": {},
   "outputs": [
    {
     "data": {
      "text/plain": [
       "(21613, 20)"
      ]
     },
     "execution_count": 8,
     "metadata": {},
     "output_type": "execute_result"
    }
   ],
   "source": [
    "X_exp.shape"
   ]
  },
  {
   "cell_type": "code",
   "execution_count": 9,
   "metadata": {},
   "outputs": [],
   "source": [
    "# load the linear regression algorithm into an object called \"data_lm\"\n",
    "data_lm = LinearRegression()\n",
    "\n",
    "# fit the linear regression algorithm object to the entire dataset, thus creating an explanatory model\n",
    "explanatory_model = data_lm.fit(X_exp, y)"
   ]
  },
  {
   "cell_type": "code",
   "execution_count": 10,
   "metadata": {},
   "outputs": [
    {
     "name": "stdout",
     "output_type": "stream",
     "text": [
      "intercept  -111409875.39938548\n",
      "        Predictor    coefficient\n",
      "0        bedrooms  -33861.347079\n",
      "1       bathrooms   41767.938483\n",
      "2     sqft_living     114.148673\n",
      "3        sqft_lot      -0.070188\n",
      "4          floors   -1208.928404\n",
      "5      waterfront  582597.814123\n",
      "6            view   51569.773842\n",
      "7           grade  103308.225167\n",
      "8      sqft_above      75.719321\n",
      "9   sqft_basement      38.429352\n",
      "10       yr_built   -2426.967332\n",
      "11   yr_renovated      22.056466\n",
      "12            lat  568763.554312\n",
      "13           long -103126.095672\n",
      "14           year   37693.444058\n",
      "15          month    1394.902977\n",
      "16    condition_2  -10656.640764\n",
      "17    condition_3  -35659.046796\n",
      "18    condition_4   -1901.080127\n",
      "19    condition_5   36039.844247\n"
     ]
    }
   ],
   "source": [
    "# print coefficients from the explanatory model\n",
    "print('intercept ', explanatory_model.intercept_)\n",
    "\n",
    "print(pd.DataFrame({'Predictor': X_exp.columns, 'coefficient': explanatory_model.coef_}))"
   ]
  },
  {
   "cell_type": "code",
   "execution_count": 11,
   "metadata": {},
   "outputs": [
    {
     "name": "stdout",
     "output_type": "stream",
     "text": [
      "adjusted r2 :  0.6957412694938332\n",
      "AIC :  589543.6626918082\n",
      "BIC :  589719.2457976268\n"
     ]
    }
   ],
   "source": [
    "# Print out the measures of model fit\n",
    "\n",
    "pred_y = explanatory_model.predict(X_exp)\n",
    "\n",
    "print('adjusted r2 : ', adjusted_r2_score(y, pred_y, explanatory_model))\n",
    "print('AIC : ', AIC_score(y, pred_y, data_lm))\n",
    "print('BIC : ', BIC_score(y, pred_y, data_lm))\n"
   ]
  },
  {
   "cell_type": "code",
   "execution_count": 54,
   "metadata": {},
   "outputs": [],
   "source": [
    "X = pd.get_dummies(X, prefix_sep=\"_\", drop_first=True)"
   ]
  },
  {
   "cell_type": "code",
   "execution_count": 55,
   "metadata": {},
   "outputs": [
    {
     "data": {
      "text/plain": [
       "(21613, 90)"
      ]
     },
     "execution_count": 55,
     "metadata": {},
     "output_type": "execute_result"
    }
   ],
   "source": [
    "X.shape"
   ]
  },
  {
   "cell_type": "code",
   "execution_count": 56,
   "metadata": {},
   "outputs": [],
   "source": [
    "# partition the data into training and test sets\n",
    "train_X, test_X, train_y, test_y = train_test_split(X, y, test_size=0.5, random_state=1)"
   ]
  },
  {
   "cell_type": "code",
   "execution_count": 46,
   "metadata": {},
   "outputs": [],
   "source": [
    "import category_encoders as ce\n",
    "\n",
    "encoder = ce.CatBoostEncoder()\n",
    "\n",
    "train_X = encoder.fit_transform(train_X, train_y)\n",
    "test_X = encoder.fit_transform(test_X, test_y)"
   ]
  },
  {
   "cell_type": "code",
   "execution_count": 57,
   "metadata": {},
   "outputs": [],
   "source": [
    "# load the linear regression algorithm into an object called \"data_lm\"\n",
    "data_lm = LinearRegression()\n",
    "\n",
    "# fit the linear regression algorithm object to the training data, thus creating a model\n",
    "model = data_lm.fit(train_X, train_y)"
   ]
  },
  {
   "cell_type": "code",
   "execution_count": 58,
   "metadata": {},
   "outputs": [
    {
     "name": "stdout",
     "output_type": "stream",
     "text": [
      "\n",
      "Regression statistics\n",
      "\n",
      "                      Mean Error (ME) : -0.0202\n",
      "       Root Mean Squared Error (RMSE) : 151453.5362\n",
      "            Mean Absolute Error (MAE) : 92676.9341\n",
      "          Mean Percentage Error (MPE) : -1.0204\n",
      "Mean Absolute Percentage Error (MAPE) : 19.0643\n",
      "\n",
      "\n",
      "Regression statistics\n",
      "\n",
      "                      Mean Error (ME) : 995.3517\n",
      "       Root Mean Squared Error (RMSE) : 168145.5749\n",
      "            Mean Absolute Error (MAE) : 96295.8656\n",
      "          Mean Percentage Error (MPE) : -0.5336\n",
      "Mean Absolute Percentage Error (MAPE) : 19.6343\n"
     ]
    }
   ],
   "source": [
    "# print performance measures of the training data\n",
    "\n",
    "regressionSummary(train_y, model.predict(train_X))\n",
    "print()\n",
    "regressionSummary(test_y, model.predict(test_X))"
   ]
  },
  {
   "cell_type": "code",
   "execution_count": 31,
   "metadata": {},
   "outputs": [
    {
     "name": "stdout",
     "output_type": "stream",
     "text": [
      "0.905894327750532\n"
     ]
    },
    {
     "data": {
      "image/png": "[encoded data removed]",
      "text/plain": [
       "<Figure size 432x288 with 1 Axes>"
      ]
     },
     "metadata": {
      "needs_background": "light"
     },
     "output_type": "display_data"
    }
   ],
   "source": [
    "# Display a histogram of the residuals to determine whether to use RMSE or MAE\n",
    "\n",
    "%matplotlib inline\n",
    "\n",
    "kc_lm_pred = model.predict(test_X)\n",
    "all_residuals = test_y - kc_lm_pred\n",
    "\n",
    "# Determine the percentage of datapoints with a residual in [-200000, 200000] = approx. 75\\%\n",
    "print(len(all_residuals[(all_residuals > -200000) & (all_residuals < 200000)]) / len(all_residuals))\n",
    "\n",
    "ax = pd.DataFrame({'Residuals': all_residuals}).hist(bins=50)\n",
    "\n",
    "plt.tight_layout()\n",
    "plt.show()"
   ]
  },
  {
   "cell_type": "code",
   "execution_count": 32,
   "metadata": {},
   "outputs": [
    {
     "name": "stdout",
     "output_type": "stream",
     "text": [
      "          Predicted     Actual       Residual\n",
      "15544  5.380827e+05   459000.0  -79082.650559\n",
      "17454  3.685400e+05   445000.0   76460.026533\n",
      "21548  7.069524e+05  1060000.0  353047.630585\n",
      "3427   6.597166e+05   732350.0   72633.387185\n",
      "8809   2.040730e+05   235000.0   30927.015336\n",
      "3294   6.619951e+05   555000.0 -106995.148684\n",
      "275    4.869692e+05   365000.0 -121969.170615\n",
      "8736   7.932878e+05   685000.0 -108287.811857\n",
      "6161   5.567319e+05   525000.0  -31731.898778\n",
      "19832  5.115991e+05   449950.0  -61649.069428\n",
      "17232  3.181527e+05   280000.0  -38152.737189\n",
      "1305   4.474274e+05   428000.0  -19427.353378\n",
      "12702  5.673702e+05   575000.0    7629.770707\n",
      "12717  3.345247e+05   313100.0  -21424.692811\n",
      "17327  5.761166e+05   637500.0   61383.384052\n",
      "8196   1.075326e+06   732000.0 -343326.193737\n",
      "13     3.655025e+05   400000.0   34497.525899\n",
      "13412  7.567975e+05   829000.0   72202.495532\n",
      "16484  4.401084e+05   469500.0   29391.646865\n",
      "14761  6.401532e+05   537000.0 -103153.245742\n",
      "\n",
      "Regression statistics\n",
      "\n",
      "                      Mean Error (ME) : 1023.4918\n",
      "       Root Mean Squared Error (RMSE) : 168058.6645\n",
      "            Mean Absolute Error (MAE) : 96280.6589\n",
      "          Mean Percentage Error (MPE) : -0.4980\n",
      "Mean Absolute Percentage Error (MAPE) : 19.6485\n"
     ]
    }
   ],
   "source": [
    "# Checking residuals by sample in the test data\n",
    "\n",
    "model_pred = model.predict(test_X)\n",
    "\n",
    "result = pd.DataFrame({'Predicted': model_pred, 'Actual': test_y,\n",
    "                       'Residual': test_y - model_pred})\n",
    "print(result.head(20))\n",
    "\n",
    "# Compute common accuracy measures\n",
    "regressionSummary(test_y, model_pred)"
   ]
  },
  {
   "cell_type": "code",
   "execution_count": 33,
   "metadata": {},
   "outputs": [
    {
     "data": {
      "image/png": "[encoded data removed]",
      "text/plain": [
       "<Figure size 432x288 with 2 Axes>"
      ]
     },
     "metadata": {
      "needs_background": "light"
     },
     "output_type": "display_data"
    }
   ],
   "source": [
    "# Gain and lift charts for inspecting model goodness of fit\n",
    "\n",
    "pred_v = pd.Series(model.predict(test_X))\n",
    "pred_v = pred_v.sort_values(ascending=False)\n",
    "\n",
    "fig,axes = plt.subplots(nrows=1, ncols=2)\n",
    "ax = gainsChart(pred_v, ax=axes[0])\n",
    "ax.set_ylabel('Cumulative Gains')\n",
    "ax.set_title(\"Cumulative Gains Chart\")\n",
    "\n",
    "ax = liftChart(pred_v, ax=axes[1], labelBars=False)\n",
    "ax.set_ylabel(\"Lift\")\n",
    "\n",
    "plt.tight_layout()\n",
    "plt.show()"
   ]
  },
  {
   "cell_type": "code",
   "execution_count": null,
   "metadata": {},
   "outputs": [],
   "source": []
  }
 ],
 "metadata": {
  "kernelspec": {
   "display_name": "Python 3",
   "language": "python",
   "name": "python3"
  },
  "language_info": {
   "codemirror_mode": {
    "name": "ipython",
    "version": 3
   },
   "file_extension": ".py",
   "mimetype": "text/x-python",
   "name": "python",
   "nbconvert_exporter": "python",
   "pygments_lexer": "ipython3",
   "version": "3.7.5"
  },
  "varInspector": {
   "cols": {
    "lenName": 16,
    "lenType": 16,
    "lenVar": 40
   },
   "kernels_config": {
    "python": {
     "delete_cmd_postfix": "",
     "delete_cmd_prefix": "del ",
     "library": "var_list.py",
     "varRefreshCmd": "print(var_dic_list())"
    },
    "r": {
     "delete_cmd_postfix": ") ",
     "delete_cmd_prefix": "rm(",
     "library": "var_list.r",
     "varRefreshCmd": "cat(var_dic_list()) "
    }
   },
   "types_to_exclude": [
    "module",
    "function",
    "builtin_function_or_method",
    "instance",
    "_Feature"
   ],
   "window_display": true
  }
 },
 "nbformat": 4,
 "nbformat_minor": 2
}
